{
 "cells": [
  {
   "cell_type": "code",
   "execution_count": 1,
   "id": "3dce09b7-f05b-46eb-b8ae-7f7481dbd2be",
   "metadata": {},
   "outputs": [],
   "source": [
    "import numpy as np\n",
    "import pandas as pd"
   ]
  },
  {
   "cell_type": "markdown",
   "id": "fbe50eef-9daa-45b6-a448-416d101d4e39",
   "metadata": {},
   "source": [
    "# Creating dataset"
   ]
  },
  {
   "cell_type": "code",
   "execution_count": null,
   "id": "cc9f1eaa-28c3-4b18-8c9f-6d2592856ce5",
   "metadata": {},
   "outputs": [],
   "source": [
    "def create_data(size):\n",
    "    df = pd.Dataframe()\n",
    "    \n",
    "    # int data\n",
    "    df['tournament_id'] = np.arange(size)\n",
    "    df['team_id'] = np.random.randint(1, 1000, size)\n",
    "    \n",
    "    # categorical data\n",
    "    df['location'] = np.random.choice(['Asia', 'Europe', 'Africa', 'America', 'Oceania'], size)\n",
    "    df['iportance'] = np.random.choice(['local', 'minor', 'major'], size)\n",
    "    \n",
    "    # dates\n",
    "    dates = pd.date_range('2024-01-01', '2024-12-31')\n",
    "    df['date'] = np.random.choice(dates, size)\n",
    "    \n",
    "    # float data\n",
    "    df['prize'] = np.random.randint(1000, 10000000, size) / 10\n",
    "    df['avg_age'] = np.random.randint(10, 500, size) / 10\n",
    "    df['prob'] = np.random.uniform(0, 1, size)\n",
    "    \n",
    "    # bool data\n",
    "    df['win'] = np.random.choice([True, False], size)\n",
    "    df['hotel'] = np.random.choice([True, False], size)\n",
    "    \n",
    "def set_dtypes(df):\n",
    "    "
   ]
  }
 ],
 "metadata": {
  "kernelspec": {
   "display_name": "Python 3 (ipykernel)",
   "language": "python",
   "name": "python3"
  },
  "language_info": {
   "codemirror_mode": {
    "name": "ipython",
    "version": 3
   },
   "file_extension": ".py",
   "mimetype": "text/x-python",
   "name": "python",
   "nbconvert_exporter": "python",
   "pygments_lexer": "ipython3",
   "version": "3.9.17"
  }
 },
 "nbformat": 4,
 "nbformat_minor": 5
}
