{
 "cells": [
  {
   "cell_type": "code",
   "execution_count": 21,
   "id": "3dce09b7-f05b-46eb-b8ae-7f7481dbd2be",
   "metadata": {},
   "outputs": [],
   "source": [
    "%matplotlib inline\n",
    "\n",
    "# Main libs\n",
    "import numpy as np\n",
    "import pandas as pd\n",
    "import matplotlib.pyplot as plt\n",
    "import os\n",
    "import timeit\n",
    "\n",
    "# Work with sql\n",
    "import psycopg2 \n",
    "from sqlalchemy import create_engine, text, inspect\n",
    "from sqlalchemy.engine import URL"
   ]
  },
  {
   "cell_type": "code",
   "execution_count": 2,
   "id": "0869c872-2b4d-4540-90aa-cd9819a0d12d",
   "metadata": {},
   "outputs": [],
   "source": [
    "# Set folder for files\n",
    "folder = 'bench_files'\n",
    "sql_folder = ''\n",
    "\n",
    "# Establish URL for connection to the database \n",
    "url_object = URL.create(\n",
    "    'postgresql+psycopg2',\n",
    "    username='postgres',\n",
    "    password='Ee123456!',\n",
    "    host='localhost',\n",
    "    database='Masters:Programing_with_python',\n",
    ")\n",
    "engine = create_engine(url_object)\n",
    "\n",
    "# Set plt style\n",
    "plt.style.use('ggplot')"
   ]
  },
  {
   "cell_type": "markdown",
   "id": "fbe50eef-9daa-45b6-a448-416d101d4e39",
   "metadata": {},
   "source": [
    "# Creating dataset"
   ]
  },
  {
   "cell_type": "code",
   "execution_count": 68,
   "id": "cc9f1eaa-28c3-4b18-8c9f-6d2592856ce5",
   "metadata": {},
   "outputs": [],
   "source": [
    "class SynthDF(pd.DataFrame):\n",
    "    def __init__(self, *args, **kwargs):\n",
    "        super().__init__(*args, **kwargs)\n",
    "        \n",
    "    @property\n",
    "    def _constructor(self):\n",
    "        return SynthDF\n",
    "    \n",
    "    @classmethod\n",
    "    def create_data(cls, size):\n",
    "        \"\"\"\n",
    "        Create a synthetic DataFrame with random data.\n",
    "\n",
    "        Parameters\n",
    "        ----------\n",
    "        size : int\n",
    "            Number of rows in the DataFrame.\n",
    "        \"\"\"\n",
    "        df = cls()\n",
    "        \n",
    "        # dates\n",
    "        dates = pd.date_range('2024-01-01', '2024-12-31')\n",
    "        df['date'] = np.random.choice(dates, size)\n",
    "        # int data\n",
    "        df['tournament_id'] = np.arange(size)\n",
    "        df['team_id'] = np.random.randint(1, 1000, size)\n",
    "        df['members'] = np.random.randint(1, 10, size)\n",
    "        # categorical data\n",
    "        df['location'] = np.random.choice(['Asia', 'Europe', 'Africa', 'America', 'Oceania'], size)\n",
    "        df['importance'] = np.random.choice(['local', 'minor', 'major'], size)\n",
    "\n",
    "        # float data\n",
    "        df['avg_age'] = np.random.randint(100, 500, size) / 10\n",
    "        df['prize'] = np.random.randint(10000, 10000000, size) / 100\n",
    "        df['prob'] = np.random.uniform(0, 1, size)\n",
    "        # bool data\n",
    "        df['win'] = np.random.choice([True, False], size)\n",
    "        \n",
    "        return df\n",
    "\n",
    "    def dtypes_setter(self):\n",
    "        \"\"\"\n",
    "        Set data types for columns in a synthetic DataFrame.\n",
    "\n",
    "        - Integers: 'tournament_id' ('int32'), 'team_id' ('int16'), 'members' ('int8').\n",
    "        - Categorical: 'location', 'importance'.\n",
    "        - Floats: 'avg_age' ('float16'), 'prize' ('float32'), 'prob' ('float32').\n",
    "        \"\"\"\n",
    "\n",
    "        # int data\n",
    "        self['tournament_id'] = self['tournament_id'].astype('int32')\n",
    "        self['team_id'] = self['team_id'].astype('int16')\n",
    "        self['members'] = self['members'].astype('int8')\n",
    "\n",
    "        # categorical data\n",
    "        self['location'] = self['location'].astype('category')\n",
    "        self['importance'] = self['importance'].astype('category')\n",
    "\n",
    "        # float data\n",
    "        self['avg_age'] = self['avg_age'] .astype('float32')\n",
    "        self['prize'] = self['prize'].astype('float32')\n",
    "        self['prob'] = self['prob'].astype('float32')\n",
    "\n",
    "    def benchmark(self, f_name, write_method, read_method, kwargs_write={}, kwargs_read={}):\n",
    "        \"\"\"\n",
    "        Benchmark the performance and space requirements of writing and reading a DataFrame.\n",
    "\n",
    "        Parameters\n",
    "        ----------\n",
    "        f_name : str\n",
    "            The name of the file to be used for benchmarking.\n",
    "        write_method : callable\n",
    "            The method used to write the DataFrame to a file.\n",
    "        read_method : callable\n",
    "            The method used to read the DataFrame from a file.\n",
    "        kwargs_write : dict, optional\n",
    "            Additional keyword arguments for the write method.\n",
    "        kwargs_read : dict, optional\n",
    "            Additional keyword arguments for the read method.\n",
    "\n",
    "        Returns\n",
    "        -------\n",
    "        dict\n",
    "            A dictionary containing benchmark results.\n",
    "            - 'format': The file format extension.\n",
    "            - 'df_size': The size identifier of the DataFrame.\n",
    "            - 'write': Timing information for the write operation.\n",
    "            - 'read': Timing information for the read operation.\n",
    "            - 'size': The size of the file on disk in bytes.\n",
    "            - 'metadata': Whether metadata (data types) is preserved in the read operation.\n",
    "        \"\"\"\n",
    "        # Set path to file \n",
    "        file = os.path.join(folder, f_name)\n",
    "\n",
    "        # Bench write time\n",
    "        write = %timeit -o write_method(self, file, **kwargs_write)\n",
    "\n",
    "        # Bench read time\n",
    "        read = %timeit -o read_method(file, **kwargs_read)\n",
    "\n",
    "        # Bench size of file\n",
    "        if write_method == pd.DataFrame.to_sql:\n",
    "            # Get size of SQL db\n",
    "            with engine.connect() as conn:\n",
    "                query = text(f\"SELECT pg_total_relation_size('{f_name}')\")\n",
    "                space = conn.execute(query).scalar()\n",
    "                f_name += '.sql'\n",
    "        else:\n",
    "            # Get size of file \n",
    "            space = os.path.getsize(file)\n",
    "        print(f'{space} bytes (required space)')\n",
    "\n",
    "        # Metadata\n",
    "        new_df = read_method(file, **kwargs_read)\n",
    "        ziped = zip(new_df.dtypes, self.dtypes) \n",
    "        saved_metadata = [type1.base == type2.base for type1, type2 in ziped]\n",
    "        print('metadata is saved' if all(saved_metadata) else 'metadata is NOT saved')\n",
    "\n",
    "        result = {\n",
    "            'format': f_name.split('.')[-1],\n",
    "            'df_size': f_name.split('_')[0],\n",
    "            'write': write.average,\n",
    "            'read': read.average,\n",
    "            'size': space,\n",
    "            'metadata': all(saved_metadata)\n",
    "        }\n",
    "\n",
    "        return result"
   ]
  },
  {
   "cell_type": "code",
   "execution_count": 69,
   "id": "6101dc15-d719-43b5-a5fe-7985fc742281",
   "metadata": {},
   "outputs": [],
   "source": [
    "# Data synthesis\n",
    "df_small = SynthDF.create_data(10000)\n",
    "df_medium = SynthDF.create_data(100000)\n",
    "df_large = SynthDF.create_data(1000000)\n",
    "\n",
    "# Change dtypes\n",
    "df_small.dtypes_setter()\n",
    "df_medium.dtypes_setter()\n",
    "df_large.dtypes_setter()"
   ]
  },
  {
   "cell_type": "code",
   "execution_count": 73,
   "id": "ba023bc3-f036-4f76-9a8b-bc38de02ac46",
   "metadata": {},
   "outputs": [],
   "source": [
    "# Init df for result\n",
    "result = pd.DataFrame(columns=['format','df_size','write', 'read', 'size', 'metadata'])"
   ]
  },
  {
   "cell_type": "markdown",
   "id": "a54fa70a-2a1a-456b-a9d4-463e52c111c6",
   "metadata": {},
   "source": [
    "# CSV"
   ]
  },
  {
   "cell_type": "code",
   "execution_count": 74,
   "id": "a9203681-a4f9-4da1-bc5f-55c7885d005c",
   "metadata": {},
   "outputs": [
    {
     "name": "stdout",
     "output_type": "stream",
     "text": [
      "58.4 ms ± 2.69 ms per loop (mean ± std. dev. of 7 runs, 10 loops each)\n",
      "13.4 ms ± 387 µs per loop (mean ± std. dev. of 7 runs, 100 loops each)\n",
      "657283 bytes (required space)\n",
      "metadata is NOT saved\n"
     ]
    }
   ],
   "source": [
    "temp = df_small.benchmark(\n",
    "    f_name='s_csv.csv', \n",
    "    write_method=pd.DataFrame.to_csv, \n",
    "    read_method=pd.read_csv,\n",
    "    kwargs_write={'index': False}\n",
    ")\n",
    "result = pd.concat([result, pd.DataFrame.from_dict(temp, orient='index').transpose()], ignore_index=True)"
   ]
  },
  {
   "cell_type": "code",
   "execution_count": 75,
   "id": "687ec41f-7ea6-4476-b82a-9baece5148b8",
   "metadata": {},
   "outputs": [
    {
     "name": "stdout",
     "output_type": "stream",
     "text": [
      "632 ms ± 50.5 ms per loop (mean ± std. dev. of 7 runs, 1 loop each)\n",
      "112 ms ± 8.97 ms per loop (mean ± std. dev. of 7 runs, 10 loops each)\n",
      "6670482 bytes (required space)\n",
      "metadata is NOT saved\n"
     ]
    }
   ],
   "source": [
    "temp = df_medium.benchmark(\n",
    "    f_name='m_csv.csv', \n",
    "    write_method=pd.DataFrame.to_csv, \n",
    "    read_method=pd.read_csv,\n",
    "    kwargs_write={'index': False}\n",
    ")\n",
    "result = pd.concat([result, pd.DataFrame.from_dict(temp, orient='index').transpose()], ignore_index=True)"
   ]
  },
  {
   "cell_type": "code",
   "execution_count": 76,
   "id": "29d9d899-3a6a-4ebf-8757-c79322354f93",
   "metadata": {},
   "outputs": [
    {
     "name": "stdout",
     "output_type": "stream",
     "text": [
      "5.44 s ± 136 ms per loop (mean ± std. dev. of 7 runs, 1 loop each)\n",
      "900 ms ± 8.58 ms per loop (mean ± std. dev. of 7 runs, 1 loop each)\n",
      "67700049 bytes (required space)\n",
      "metadata is NOT saved\n"
     ]
    }
   ],
   "source": [
    "temp = df_large.benchmark(\n",
    "    f_name='l_csv.csv', \n",
    "    write_method=pd.DataFrame.to_csv, \n",
    "    read_method=pd.read_csv,\n",
    "    kwargs_write={'index': False}\n",
    ")\n",
    "result = pd.concat([result, pd.DataFrame.from_dict(temp, orient='index').transpose()], ignore_index=True)"
   ]
  },
  {
   "cell_type": "markdown",
   "id": "f1492881-6356-4395-8817-22e1f285c23e",
   "metadata": {},
   "source": [
    "# JSON"
   ]
  },
  {
   "cell_type": "code",
   "execution_count": 77,
   "id": "bc7769b8-9d74-461f-b45b-d6e4df462d8f",
   "metadata": {},
   "outputs": [
    {
     "name": "stdout",
     "output_type": "stream",
     "text": [
      "13.6 ms ± 123 µs per loop (mean ± std. dev. of 7 runs, 100 loops each)\n",
      "59.4 ms ± 933 µs per loop (mean ± std. dev. of 7 runs, 10 loops each)\n",
      "1553701 bytes (required space)\n",
      "metadata is NOT saved\n"
     ]
    }
   ],
   "source": [
    "temp = df_small.benchmark(\n",
    "    f_name='s_json.json', \n",
    "    write_method=pd.DataFrame.to_json, \n",
    "    read_method=pd.read_json,\n",
    ")\n",
    "result = pd.concat([result, pd.DataFrame.from_dict(temp, orient='index').transpose()], ignore_index=True)"
   ]
  },
  {
   "cell_type": "code",
   "execution_count": 78,
   "id": "c086d67b-8a51-4d70-a0de-945fb537c16d",
   "metadata": {},
   "outputs": [
    {
     "name": "stdout",
     "output_type": "stream",
     "text": [
      "131 ms ± 746 µs per loop (mean ± std. dev. of 7 runs, 10 loops each)\n",
      "654 ms ± 19.8 ms per loop (mean ± std. dev. of 7 runs, 1 loop each)\n",
      "16630095 bytes (required space)\n",
      "metadata is NOT saved\n"
     ]
    }
   ],
   "source": [
    "temp = df_medium.benchmark(\n",
    "    f_name='m_json.json', \n",
    "    write_method=pd.DataFrame.to_json, \n",
    "    read_method=pd.read_json,\n",
    ")\n",
    "result = pd.concat([result, pd.DataFrame.from_dict(temp, orient='index').transpose()], ignore_index=True)"
   ]
  },
  {
   "cell_type": "code",
   "execution_count": 79,
   "id": "7b7842d6-12d0-4314-bb74-0bcf2504348c",
   "metadata": {},
   "outputs": [
    {
     "name": "stdout",
     "output_type": "stream",
     "text": [
      "1.44 s ± 20.9 ms per loop (mean ± std. dev. of 7 runs, 1 loop each)\n",
      "9.15 s ± 33.2 ms per loop (mean ± std. dev. of 7 runs, 1 loop each)\n",
      "177282931 bytes (required space)\n",
      "metadata is NOT saved\n"
     ]
    }
   ],
   "source": [
    "temp = df_large.benchmark(\n",
    "    f_name='l_json.json', \n",
    "    write_method=pd.DataFrame.to_json, \n",
    "    read_method=pd.read_json,\n",
    ")\n",
    "result = pd.concat([result, pd.DataFrame.from_dict(temp, orient='index').transpose()], ignore_index=True)"
   ]
  },
  {
   "cell_type": "markdown",
   "id": "36a9a0bc-282a-4616-ab9f-74659c537d0d",
   "metadata": {},
   "source": [
    "# SQL?"
   ]
  },
  {
   "cell_type": "code",
   "execution_count": 80,
   "id": "0b352145-e79b-4381-b059-0cbf1e5776eb",
   "metadata": {},
   "outputs": [
    {
     "name": "stdout",
     "output_type": "stream",
     "text": [
      "509 ms ± 14 ms per loop (mean ± std. dev. of 7 runs, 1 loop each)\n",
      "78.2 ms ± 859 µs per loop (mean ± std. dev. of 7 runs, 10 loops each)\n",
      "811008 bytes (required space)\n",
      "metadata is NOT saved\n"
     ]
    }
   ],
   "source": [
    "temp = df_small.benchmark(\n",
    "    f_name='s_sql', # This case sql db name\n",
    "    write_method=pd.DataFrame.to_sql, \n",
    "    read_method=pd.read_sql_table,\n",
    "    kwargs_write={'con':engine, 'if_exists':'replace', 'index':False},\n",
    "    kwargs_read={'con':engine}\n",
    ")\n",
    "result = pd.concat([result, pd.DataFrame.from_dict(temp, orient='index').transpose()], ignore_index=True)"
   ]
  },
  {
   "cell_type": "markdown",
   "id": "1adcd8a3-8882-43b5-89f5-5f33a8bd79a7",
   "metadata": {},
   "source": [
    "# Pickle"
   ]
  },
  {
   "cell_type": "code",
   "execution_count": 81,
   "id": "6043ee2a-6f48-413c-9e78-feda82b4d9b2",
   "metadata": {},
   "outputs": [
    {
     "name": "stdout",
     "output_type": "stream",
     "text": [
      "763 µs ± 5.25 µs per loop (mean ± std. dev. of 7 runs, 1,000 loops each)\n",
      "579 µs ± 7.99 µs per loop (mean ± std. dev. of 7 runs, 1,000 loops each)\n",
      "301977 bytes (required space)\n",
      "metadata is saved\n"
     ]
    }
   ],
   "source": [
    "temp = df_small.benchmark(\n",
    "    f_name='s_pickle.pickle', \n",
    "    write_method=pd.DataFrame.to_pickle, \n",
    "    read_method=pd.read_pickle,\n",
    ")\n",
    "result = pd.concat([result, pd.DataFrame.from_dict(temp, orient='index').transpose()], ignore_index=True)"
   ]
  },
  {
   "cell_type": "code",
   "execution_count": 82,
   "id": "eeeb4b72-b4d4-4803-90eb-aef70a54c0a3",
   "metadata": {},
   "outputs": [
    {
     "name": "stdout",
     "output_type": "stream",
     "text": [
      "1.89 ms ± 44.2 µs per loop (mean ± std. dev. of 7 runs, 100 loops each)\n",
      "1.3 ms ± 9.86 µs per loop (mean ± std. dev. of 7 runs, 1,000 loops each)\n",
      "3002062 bytes (required space)\n",
      "metadata is saved\n"
     ]
    }
   ],
   "source": [
    "temp = df_medium.benchmark(\n",
    "    f_name='m_pickle.pickle', \n",
    "    write_method=pd.DataFrame.to_pickle, \n",
    "    read_method=pd.read_pickle,\n",
    ")\n",
    "result = pd.concat([result, pd.DataFrame.from_dict(temp, orient='index').transpose()], ignore_index=True)"
   ]
  },
  {
   "cell_type": "code",
   "execution_count": 83,
   "id": "2e9f721f-9d70-4da2-b821-994c217bffb6",
   "metadata": {},
   "outputs": [
    {
     "name": "stdout",
     "output_type": "stream",
     "text": [
      "13.5 ms ± 108 µs per loop (mean ± std. dev. of 7 runs, 100 loops each)\n",
      "13.6 ms ± 137 µs per loop (mean ± std. dev. of 7 runs, 100 loops each)\n",
      "30002062 bytes (required space)\n",
      "metadata is saved\n"
     ]
    }
   ],
   "source": [
    "temp = df_large.benchmark(\n",
    "    f_name='l_pickle.pickle', \n",
    "    write_method=pd.DataFrame.to_pickle, \n",
    "    read_method=pd.read_pickle,\n",
    ")\n",
    "result = pd.concat([result, pd.DataFrame.from_dict(temp, orient='index').transpose()], ignore_index=True)"
   ]
  },
  {
   "cell_type": "markdown",
   "id": "adb53539-d555-4270-a576-f16e539e2626",
   "metadata": {
    "tags": []
   },
   "source": [
    "# Feather\n",
    "`\n",
    "!pip istall pyarrow\n",
    "`"
   ]
  },
  {
   "cell_type": "code",
   "execution_count": 84,
   "id": "88bcea07-c141-40f7-9961-f8ee175f4b6d",
   "metadata": {},
   "outputs": [
    {
     "name": "stdout",
     "output_type": "stream",
     "text": [
      "4.53 ms ± 156 µs per loop (mean ± std. dev. of 7 runs, 100 loops each)\n",
      "3.27 ms ± 53.1 µs per loop (mean ± std. dev. of 7 runs, 100 loops each)\n",
      "229146 bytes (required space)\n",
      "metadata is saved\n"
     ]
    }
   ],
   "source": [
    "temp = df_small.benchmark(\n",
    "    f_name='s_feather.feather', \n",
    "    write_method=pd.DataFrame.to_feather, \n",
    "    read_method=pd.read_feather,\n",
    ")\n",
    "result = pd.concat([result, pd.DataFrame.from_dict(temp, orient='index').transpose()], ignore_index=True)"
   ]
  },
  {
   "cell_type": "code",
   "execution_count": 85,
   "id": "4891c779-def8-45bd-b8b0-63011ca5591f",
   "metadata": {},
   "outputs": [
    {
     "name": "stdout",
     "output_type": "stream",
     "text": [
      "7.49 ms ± 73 µs per loop (mean ± std. dev. of 7 runs, 100 loops each)\n",
      "6.37 ms ± 88.2 µs per loop (mean ± std. dev. of 7 runs, 100 loops each)\n",
      "2189242 bytes (required space)\n",
      "metadata is saved\n"
     ]
    }
   ],
   "source": [
    "temp = df_medium.benchmark(\n",
    "    f_name='m_feather.feather', \n",
    "    write_method=pd.DataFrame.to_feather, \n",
    "    read_method=pd.read_feather,\n",
    ")\n",
    "result = pd.concat([result, pd.DataFrame.from_dict(temp, orient='index').transpose()], ignore_index=True)"
   ]
  },
  {
   "cell_type": "code",
   "execution_count": 86,
   "id": "714b5db9-ce52-455d-9035-3b589cbd81ff",
   "metadata": {},
   "outputs": [
    {
     "name": "stdout",
     "output_type": "stream",
     "text": [
      "36.7 ms ± 589 µs per loop (mean ± std. dev. of 7 runs, 10 loops each)\n",
      "38.9 ms ± 2.82 ms per loop (mean ± std. dev. of 7 runs, 10 loops each)\n",
      "21825562 bytes (required space)\n",
      "metadata is saved\n"
     ]
    }
   ],
   "source": [
    "temp = df_large.benchmark(\n",
    "    f_name='l_feather.feather', \n",
    "    write_method=pd.DataFrame.to_feather, \n",
    "    read_method=pd.read_feather,\n",
    ")\n",
    "result = pd.concat([result, pd.DataFrame.from_dict(temp, orient='index').transpose()], ignore_index=True)"
   ]
  },
  {
   "cell_type": "markdown",
   "id": "3ef66f16-b78b-4f39-b7d6-5f7132176a4b",
   "metadata": {},
   "source": [
    "# Parquet\n",
    "`\n",
    "!pip istall fastparquet\n",
    "`"
   ]
  },
  {
   "cell_type": "code",
   "execution_count": 87,
   "id": "5273143d-0593-4d7d-9adf-924847d1a66c",
   "metadata": {},
   "outputs": [
    {
     "name": "stdout",
     "output_type": "stream",
     "text": [
      "9.86 ms ± 542 µs per loop (mean ± std. dev. of 7 runs, 1 loop each)\n",
      "4.18 ms ± 63.9 µs per loop (mean ± std. dev. of 7 runs, 100 loops each)\n",
      "235540 bytes (required space)\n",
      "metadata is saved\n"
     ]
    }
   ],
   "source": [
    "temp = df_small.benchmark(\n",
    "    f_name='s_parquet.parquet', \n",
    "    write_method=pd.DataFrame.to_parquet, \n",
    "    read_method=pd.read_parquet,\n",
    "    kwargs_write={'engine':'fastparquet'},\n",
    "    kwargs_read={'engine':'fastparquet'}\n",
    ")\n",
    "result = pd.concat([result, pd.DataFrame.from_dict(temp, orient='index').transpose()], ignore_index=True)"
   ]
  },
  {
   "cell_type": "code",
   "execution_count": 88,
   "id": "ce00fc51-b3ce-4be2-85b5-64f05a16d2d8",
   "metadata": {},
   "outputs": [
    {
     "name": "stdout",
     "output_type": "stream",
     "text": [
      "20.3 ms ± 1.18 ms per loop (mean ± std. dev. of 7 runs, 100 loops each)\n",
      "8.65 ms ± 303 µs per loop (mean ± std. dev. of 7 runs, 100 loops each)\n",
      "2311556 bytes (required space)\n",
      "metadata is saved\n"
     ]
    }
   ],
   "source": [
    "temp = df_medium.benchmark(\n",
    "    f_name='m_parquet.parquet', \n",
    "    write_method=pd.DataFrame.to_parquet, \n",
    "    read_method=pd.read_parquet,\n",
    "    kwargs_write={'engine':'fastparquet'},\n",
    "    kwargs_read={'engine':'fastparquet'}\n",
    ")\n",
    "result = pd.concat([result, pd.DataFrame.from_dict(temp, orient='index').transpose()], ignore_index=True)"
   ]
  },
  {
   "cell_type": "code",
   "execution_count": 89,
   "id": "4d8f7b51-f32a-465b-bb73-23afc44d1d5b",
   "metadata": {},
   "outputs": [
    {
     "name": "stdout",
     "output_type": "stream",
     "text": [
      "138 ms ± 2.39 ms per loop (mean ± std. dev. of 7 runs, 10 loops each)\n",
      "65.1 ms ± 1.67 ms per loop (mean ± std. dev. of 7 runs, 10 loops each)\n",
      "23062643 bytes (required space)\n",
      "metadata is saved\n"
     ]
    }
   ],
   "source": [
    "temp = df_large.benchmark(\n",
    "    f_name='l_parquet.parquet', \n",
    "    write_method=pd.DataFrame.to_parquet, \n",
    "    read_method=pd.read_parquet,\n",
    "    kwargs_write={'engine':'fastparquet'},\n",
    "    kwargs_read={'engine':'fastparquet'}\n",
    ")\n",
    "result = pd.concat([result, pd.DataFrame.from_dict(temp, orient='index').transpose()], ignore_index=True)"
   ]
  },
  {
   "cell_type": "markdown",
   "id": "b5499bbe-ec3e-43a8-bdc0-b4fc45f48ac6",
   "metadata": {},
   "source": [
    "# Show results"
   ]
  },
  {
   "cell_type": "code",
   "execution_count": 90,
   "id": "9c40390c-1258-4e1f-b388-aa1198fa7857",
   "metadata": {},
   "outputs": [
    {
     "data": {
      "text/html": [
       "<div>\n",
       "<style scoped>\n",
       "    .dataframe tbody tr th:only-of-type {\n",
       "        vertical-align: middle;\n",
       "    }\n",
       "\n",
       "    .dataframe tbody tr th {\n",
       "        vertical-align: top;\n",
       "    }\n",
       "\n",
       "    .dataframe thead th {\n",
       "        text-align: right;\n",
       "    }\n",
       "</style>\n",
       "<table border=\"1\" class=\"dataframe\">\n",
       "  <thead>\n",
       "    <tr style=\"text-align: right;\">\n",
       "      <th></th>\n",
       "      <th>format</th>\n",
       "      <th>df_size</th>\n",
       "      <th>write</th>\n",
       "      <th>read</th>\n",
       "      <th>size</th>\n",
       "      <th>metadata</th>\n",
       "    </tr>\n",
       "  </thead>\n",
       "  <tbody>\n",
       "    <tr>\n",
       "      <th>0</th>\n",
       "      <td>csv</td>\n",
       "      <td>s</td>\n",
       "      <td>0.058356</td>\n",
       "      <td>0.013401</td>\n",
       "      <td>0.657283</td>\n",
       "      <td>False</td>\n",
       "    </tr>\n",
       "    <tr>\n",
       "      <th>1</th>\n",
       "      <td>csv</td>\n",
       "      <td>m</td>\n",
       "      <td>0.632408</td>\n",
       "      <td>0.112084</td>\n",
       "      <td>6.670482</td>\n",
       "      <td>False</td>\n",
       "    </tr>\n",
       "    <tr>\n",
       "      <th>2</th>\n",
       "      <td>csv</td>\n",
       "      <td>l</td>\n",
       "      <td>5.435706</td>\n",
       "      <td>0.900079</td>\n",
       "      <td>67.700049</td>\n",
       "      <td>False</td>\n",
       "    </tr>\n",
       "    <tr>\n",
       "      <th>3</th>\n",
       "      <td>json</td>\n",
       "      <td>s</td>\n",
       "      <td>0.013569</td>\n",
       "      <td>0.059357</td>\n",
       "      <td>1.553701</td>\n",
       "      <td>False</td>\n",
       "    </tr>\n",
       "    <tr>\n",
       "      <th>4</th>\n",
       "      <td>json</td>\n",
       "      <td>m</td>\n",
       "      <td>0.130575</td>\n",
       "      <td>0.653563</td>\n",
       "      <td>16.630095</td>\n",
       "      <td>False</td>\n",
       "    </tr>\n",
       "    <tr>\n",
       "      <th>5</th>\n",
       "      <td>json</td>\n",
       "      <td>l</td>\n",
       "      <td>1.442994</td>\n",
       "      <td>9.154271</td>\n",
       "      <td>177.282931</td>\n",
       "      <td>False</td>\n",
       "    </tr>\n",
       "    <tr>\n",
       "      <th>6</th>\n",
       "      <td>sql</td>\n",
       "      <td>s</td>\n",
       "      <td>0.508832</td>\n",
       "      <td>0.078224</td>\n",
       "      <td>0.811008</td>\n",
       "      <td>False</td>\n",
       "    </tr>\n",
       "    <tr>\n",
       "      <th>7</th>\n",
       "      <td>pickle</td>\n",
       "      <td>s</td>\n",
       "      <td>0.000763</td>\n",
       "      <td>0.000579</td>\n",
       "      <td>0.301977</td>\n",
       "      <td>True</td>\n",
       "    </tr>\n",
       "    <tr>\n",
       "      <th>8</th>\n",
       "      <td>pickle</td>\n",
       "      <td>m</td>\n",
       "      <td>0.001891</td>\n",
       "      <td>0.0013</td>\n",
       "      <td>3.002062</td>\n",
       "      <td>True</td>\n",
       "    </tr>\n",
       "    <tr>\n",
       "      <th>9</th>\n",
       "      <td>pickle</td>\n",
       "      <td>l</td>\n",
       "      <td>0.013516</td>\n",
       "      <td>0.013577</td>\n",
       "      <td>30.002062</td>\n",
       "      <td>True</td>\n",
       "    </tr>\n",
       "    <tr>\n",
       "      <th>10</th>\n",
       "      <td>feather</td>\n",
       "      <td>s</td>\n",
       "      <td>0.004529</td>\n",
       "      <td>0.003271</td>\n",
       "      <td>0.229146</td>\n",
       "      <td>True</td>\n",
       "    </tr>\n",
       "    <tr>\n",
       "      <th>11</th>\n",
       "      <td>feather</td>\n",
       "      <td>m</td>\n",
       "      <td>0.007487</td>\n",
       "      <td>0.00637</td>\n",
       "      <td>2.189242</td>\n",
       "      <td>True</td>\n",
       "    </tr>\n",
       "    <tr>\n",
       "      <th>12</th>\n",
       "      <td>feather</td>\n",
       "      <td>l</td>\n",
       "      <td>0.036657</td>\n",
       "      <td>0.038891</td>\n",
       "      <td>21.825562</td>\n",
       "      <td>True</td>\n",
       "    </tr>\n",
       "    <tr>\n",
       "      <th>13</th>\n",
       "      <td>parquet</td>\n",
       "      <td>s</td>\n",
       "      <td>0.009857</td>\n",
       "      <td>0.004183</td>\n",
       "      <td>0.23554</td>\n",
       "      <td>True</td>\n",
       "    </tr>\n",
       "    <tr>\n",
       "      <th>14</th>\n",
       "      <td>parquet</td>\n",
       "      <td>m</td>\n",
       "      <td>0.02027</td>\n",
       "      <td>0.008651</td>\n",
       "      <td>2.311556</td>\n",
       "      <td>True</td>\n",
       "    </tr>\n",
       "    <tr>\n",
       "      <th>15</th>\n",
       "      <td>parquet</td>\n",
       "      <td>l</td>\n",
       "      <td>0.137526</td>\n",
       "      <td>0.065055</td>\n",
       "      <td>23.062643</td>\n",
       "      <td>True</td>\n",
       "    </tr>\n",
       "  </tbody>\n",
       "</table>\n",
       "</div>"
      ],
      "text/plain": [
       "     format df_size     write      read        size metadata\n",
       "0       csv       s  0.058356  0.013401    0.657283    False\n",
       "1       csv       m  0.632408  0.112084    6.670482    False\n",
       "2       csv       l  5.435706  0.900079   67.700049    False\n",
       "3      json       s  0.013569  0.059357    1.553701    False\n",
       "4      json       m  0.130575  0.653563   16.630095    False\n",
       "5      json       l  1.442994  9.154271  177.282931    False\n",
       "6       sql       s  0.508832  0.078224    0.811008    False\n",
       "7    pickle       s  0.000763  0.000579    0.301977     True\n",
       "8    pickle       m  0.001891    0.0013    3.002062     True\n",
       "9    pickle       l  0.013516  0.013577   30.002062     True\n",
       "10  feather       s  0.004529  0.003271    0.229146     True\n",
       "11  feather       m  0.007487   0.00637    2.189242     True\n",
       "12  feather       l  0.036657  0.038891   21.825562     True\n",
       "13  parquet       s  0.009857  0.004183     0.23554     True\n",
       "14  parquet       m   0.02027  0.008651    2.311556     True\n",
       "15  parquet       l  0.137526  0.065055   23.062643     True"
      ]
     },
     "execution_count": 90,
     "metadata": {},
     "output_type": "execute_result"
    }
   ],
   "source": [
    "result['size'] /= 1_000_000 # Convert to MB\n",
    "result"
   ]
  },
  {
   "cell_type": "markdown",
   "id": "50f822e9-05c3-47db-ad26-aced7d719c5a",
   "metadata": {},
   "source": [
    "# Group data"
   ]
  },
  {
   "cell_type": "code",
   "execution_count": 91,
   "id": "84cb0e98-02a4-4a30-8bca-3827a4cbb4df",
   "metadata": {},
   "outputs": [
    {
     "data": {
      "text/html": [
       "<div>\n",
       "<style scoped>\n",
       "    .dataframe tbody tr th:only-of-type {\n",
       "        vertical-align: middle;\n",
       "    }\n",
       "\n",
       "    .dataframe tbody tr th {\n",
       "        vertical-align: top;\n",
       "    }\n",
       "\n",
       "    .dataframe thead tr th {\n",
       "        text-align: left;\n",
       "    }\n",
       "\n",
       "    .dataframe thead tr:last-of-type th {\n",
       "        text-align: right;\n",
       "    }\n",
       "</style>\n",
       "<table border=\"1\" class=\"dataframe\">\n",
       "  <thead>\n",
       "    <tr>\n",
       "      <th></th>\n",
       "      <th colspan=\"3\" halign=\"left\">write</th>\n",
       "      <th colspan=\"3\" halign=\"left\">read</th>\n",
       "      <th colspan=\"3\" halign=\"left\">size</th>\n",
       "      <th colspan=\"3\" halign=\"left\">metadata</th>\n",
       "    </tr>\n",
       "    <tr>\n",
       "      <th>df_size</th>\n",
       "      <th>l</th>\n",
       "      <th>m</th>\n",
       "      <th>s</th>\n",
       "      <th>l</th>\n",
       "      <th>m</th>\n",
       "      <th>s</th>\n",
       "      <th>l</th>\n",
       "      <th>m</th>\n",
       "      <th>s</th>\n",
       "      <th>l</th>\n",
       "      <th>m</th>\n",
       "      <th>s</th>\n",
       "    </tr>\n",
       "    <tr>\n",
       "      <th>format</th>\n",
       "      <th></th>\n",
       "      <th></th>\n",
       "      <th></th>\n",
       "      <th></th>\n",
       "      <th></th>\n",
       "      <th></th>\n",
       "      <th></th>\n",
       "      <th></th>\n",
       "      <th></th>\n",
       "      <th></th>\n",
       "      <th></th>\n",
       "      <th></th>\n",
       "    </tr>\n",
       "  </thead>\n",
       "  <tbody>\n",
       "    <tr>\n",
       "      <th>csv</th>\n",
       "      <td>5.435706</td>\n",
       "      <td>0.632408</td>\n",
       "      <td>0.058356</td>\n",
       "      <td>0.900079</td>\n",
       "      <td>0.112084</td>\n",
       "      <td>0.013401</td>\n",
       "      <td>67.700049</td>\n",
       "      <td>6.670482</td>\n",
       "      <td>0.657283</td>\n",
       "      <td>0.0</td>\n",
       "      <td>0.0</td>\n",
       "      <td>0.0</td>\n",
       "    </tr>\n",
       "    <tr>\n",
       "      <th>feather</th>\n",
       "      <td>0.036657</td>\n",
       "      <td>0.007487</td>\n",
       "      <td>0.004529</td>\n",
       "      <td>0.038891</td>\n",
       "      <td>0.00637</td>\n",
       "      <td>0.003271</td>\n",
       "      <td>21.825562</td>\n",
       "      <td>2.189242</td>\n",
       "      <td>0.229146</td>\n",
       "      <td>1.0</td>\n",
       "      <td>1.0</td>\n",
       "      <td>1.0</td>\n",
       "    </tr>\n",
       "    <tr>\n",
       "      <th>json</th>\n",
       "      <td>1.442994</td>\n",
       "      <td>0.130575</td>\n",
       "      <td>0.013569</td>\n",
       "      <td>9.154271</td>\n",
       "      <td>0.653563</td>\n",
       "      <td>0.059357</td>\n",
       "      <td>177.282931</td>\n",
       "      <td>16.630095</td>\n",
       "      <td>1.553701</td>\n",
       "      <td>0.0</td>\n",
       "      <td>0.0</td>\n",
       "      <td>0.0</td>\n",
       "    </tr>\n",
       "    <tr>\n",
       "      <th>parquet</th>\n",
       "      <td>0.137526</td>\n",
       "      <td>0.02027</td>\n",
       "      <td>0.009857</td>\n",
       "      <td>0.065055</td>\n",
       "      <td>0.008651</td>\n",
       "      <td>0.004183</td>\n",
       "      <td>23.062643</td>\n",
       "      <td>2.311556</td>\n",
       "      <td>0.23554</td>\n",
       "      <td>1.0</td>\n",
       "      <td>1.0</td>\n",
       "      <td>1.0</td>\n",
       "    </tr>\n",
       "    <tr>\n",
       "      <th>pickle</th>\n",
       "      <td>0.013516</td>\n",
       "      <td>0.001891</td>\n",
       "      <td>0.000763</td>\n",
       "      <td>0.013577</td>\n",
       "      <td>0.0013</td>\n",
       "      <td>0.000579</td>\n",
       "      <td>30.002062</td>\n",
       "      <td>3.002062</td>\n",
       "      <td>0.301977</td>\n",
       "      <td>1.0</td>\n",
       "      <td>1.0</td>\n",
       "      <td>1.0</td>\n",
       "    </tr>\n",
       "    <tr>\n",
       "      <th>sql</th>\n",
       "      <td>NaN</td>\n",
       "      <td>NaN</td>\n",
       "      <td>0.508832</td>\n",
       "      <td>NaN</td>\n",
       "      <td>NaN</td>\n",
       "      <td>0.078224</td>\n",
       "      <td>NaN</td>\n",
       "      <td>NaN</td>\n",
       "      <td>0.811008</td>\n",
       "      <td>NaN</td>\n",
       "      <td>NaN</td>\n",
       "      <td>0.0</td>\n",
       "    </tr>\n",
       "  </tbody>\n",
       "</table>\n",
       "</div>"
      ],
      "text/plain": [
       "            write                          read                      \\\n",
       "df_size         l         m         s         l         m         s   \n",
       "format                                                                \n",
       "csv      5.435706  0.632408  0.058356  0.900079  0.112084  0.013401   \n",
       "feather  0.036657  0.007487  0.004529  0.038891   0.00637  0.003271   \n",
       "json     1.442994  0.130575  0.013569  9.154271  0.653563  0.059357   \n",
       "parquet  0.137526   0.02027  0.009857  0.065055  0.008651  0.004183   \n",
       "pickle   0.013516  0.001891  0.000763  0.013577    0.0013  0.000579   \n",
       "sql           NaN       NaN  0.508832       NaN       NaN  0.078224   \n",
       "\n",
       "               size                      metadata            \n",
       "df_size           l          m         s        l    m    s  \n",
       "format                                                       \n",
       "csv       67.700049   6.670482  0.657283      0.0  0.0  0.0  \n",
       "feather   21.825562   2.189242  0.229146      1.0  1.0  1.0  \n",
       "json     177.282931  16.630095  1.553701      0.0  0.0  0.0  \n",
       "parquet   23.062643   2.311556   0.23554      1.0  1.0  1.0  \n",
       "pickle    30.002062   3.002062  0.301977      1.0  1.0  1.0  \n",
       "sql             NaN        NaN  0.811008      NaN  NaN  0.0  "
      ]
     },
     "execution_count": 91,
     "metadata": {},
     "output_type": "execute_result"
    }
   ],
   "source": [
    "# Group DF by 'format' and 'df_size'\n",
    "grouped = result.groupby(['format', 'df_size']).mean().unstack()\n",
    "grouped"
   ]
  },
  {
   "cell_type": "code",
   "execution_count": 92,
   "id": "a933867d-e691-489b-9336-2009121bf5ad",
   "metadata": {},
   "outputs": [
    {
     "data": {
      "text/html": [
       "<div>\n",
       "<style scoped>\n",
       "    .dataframe tbody tr th:only-of-type {\n",
       "        vertical-align: middle;\n",
       "    }\n",
       "\n",
       "    .dataframe tbody tr th {\n",
       "        vertical-align: top;\n",
       "    }\n",
       "\n",
       "    .dataframe thead tr th {\n",
       "        text-align: left;\n",
       "    }\n",
       "\n",
       "    .dataframe thead tr:last-of-type th {\n",
       "        text-align: right;\n",
       "    }\n",
       "</style>\n",
       "<table border=\"1\" class=\"dataframe\">\n",
       "  <thead>\n",
       "    <tr>\n",
       "      <th></th>\n",
       "      <th colspan=\"3\" halign=\"left\">write</th>\n",
       "      <th colspan=\"3\" halign=\"left\">read</th>\n",
       "      <th colspan=\"3\" halign=\"left\">size</th>\n",
       "      <th colspan=\"3\" halign=\"left\">metadata</th>\n",
       "    </tr>\n",
       "    <tr>\n",
       "      <th>df_size</th>\n",
       "      <th>l</th>\n",
       "      <th>m</th>\n",
       "      <th>s</th>\n",
       "      <th>l</th>\n",
       "      <th>m</th>\n",
       "      <th>s</th>\n",
       "      <th>l</th>\n",
       "      <th>m</th>\n",
       "      <th>s</th>\n",
       "      <th>l</th>\n",
       "      <th>m</th>\n",
       "      <th>s</th>\n",
       "    </tr>\n",
       "    <tr>\n",
       "      <th>format</th>\n",
       "      <th></th>\n",
       "      <th></th>\n",
       "      <th></th>\n",
       "      <th></th>\n",
       "      <th></th>\n",
       "      <th></th>\n",
       "      <th></th>\n",
       "      <th></th>\n",
       "      <th></th>\n",
       "      <th></th>\n",
       "      <th></th>\n",
       "      <th></th>\n",
       "    </tr>\n",
       "  </thead>\n",
       "  <tbody>\n",
       "    <tr>\n",
       "      <th>feather</th>\n",
       "      <td>0.036657</td>\n",
       "      <td>0.007487</td>\n",
       "      <td>0.004529</td>\n",
       "      <td>0.038891</td>\n",
       "      <td>0.00637</td>\n",
       "      <td>0.003271</td>\n",
       "      <td>21.825562</td>\n",
       "      <td>2.189242</td>\n",
       "      <td>0.229146</td>\n",
       "      <td>1.0</td>\n",
       "      <td>1.0</td>\n",
       "      <td>1.0</td>\n",
       "    </tr>\n",
       "    <tr>\n",
       "      <th>parquet</th>\n",
       "      <td>0.137526</td>\n",
       "      <td>0.02027</td>\n",
       "      <td>0.009857</td>\n",
       "      <td>0.065055</td>\n",
       "      <td>0.008651</td>\n",
       "      <td>0.004183</td>\n",
       "      <td>23.062643</td>\n",
       "      <td>2.311556</td>\n",
       "      <td>0.23554</td>\n",
       "      <td>1.0</td>\n",
       "      <td>1.0</td>\n",
       "      <td>1.0</td>\n",
       "    </tr>\n",
       "    <tr>\n",
       "      <th>pickle</th>\n",
       "      <td>0.013516</td>\n",
       "      <td>0.001891</td>\n",
       "      <td>0.000763</td>\n",
       "      <td>0.013577</td>\n",
       "      <td>0.0013</td>\n",
       "      <td>0.000579</td>\n",
       "      <td>30.002062</td>\n",
       "      <td>3.002062</td>\n",
       "      <td>0.301977</td>\n",
       "      <td>1.0</td>\n",
       "      <td>1.0</td>\n",
       "      <td>1.0</td>\n",
       "    </tr>\n",
       "    <tr>\n",
       "      <th>sql</th>\n",
       "      <td>NaN</td>\n",
       "      <td>NaN</td>\n",
       "      <td>0.508832</td>\n",
       "      <td>NaN</td>\n",
       "      <td>NaN</td>\n",
       "      <td>0.078224</td>\n",
       "      <td>NaN</td>\n",
       "      <td>NaN</td>\n",
       "      <td>0.811008</td>\n",
       "      <td>NaN</td>\n",
       "      <td>NaN</td>\n",
       "      <td>0.0</td>\n",
       "    </tr>\n",
       "  </tbody>\n",
       "</table>\n",
       "</div>"
      ],
      "text/plain": [
       "            write                          read                      \\\n",
       "df_size         l         m         s         l         m         s   \n",
       "format                                                                \n",
       "feather  0.036657  0.007487  0.004529  0.038891   0.00637  0.003271   \n",
       "parquet  0.137526   0.02027  0.009857  0.065055  0.008651  0.004183   \n",
       "pickle   0.013516  0.001891  0.000763  0.013577    0.0013  0.000579   \n",
       "sql           NaN       NaN  0.508832       NaN       NaN  0.078224   \n",
       "\n",
       "              size                     metadata            \n",
       "df_size          l         m         s        l    m    s  \n",
       "format                                                     \n",
       "feather  21.825562  2.189242  0.229146      1.0  1.0  1.0  \n",
       "parquet  23.062643  2.311556   0.23554      1.0  1.0  1.0  \n",
       "pickle   30.002062  3.002062  0.301977      1.0  1.0  1.0  \n",
       "sql            NaN       NaN  0.811008      NaN  NaN  0.0  "
      ]
     },
     "execution_count": 92,
     "metadata": {},
     "output_type": "execute_result"
    }
   ],
   "source": [
    "binary = grouped.query('format not in [\"csv\", \"json\"]')\n",
    "binary"
   ]
  },
  {
   "cell_type": "markdown",
   "id": "89e882ed-6d15-4ae2-be7f-716cb36ddca4",
   "metadata": {},
   "source": [
    "# Draw graphs"
   ]
  },
  {
   "cell_type": "code",
   "execution_count": 93,
   "id": "9ec5343f-2a2e-4dd3-b253-afc329ca4f76",
   "metadata": {},
   "outputs": [],
   "source": [
    "def plot_data(df, title='', y_label=''):\n",
    "    ax = df.plot(kind='bar', figsize=(12, 6), width=0.8, logy=True)\n",
    "    for p in ax.patches:\n",
    "        ax.annotate(str(round(p.get_height(), 4)), \n",
    "                    (p.get_x() + p.get_width() / 2., p.get_height()), \n",
    "                    ha='center', \n",
    "                    va='center', \n",
    "                    xytext=(0, 30), \n",
    "                    textcoords='offset points',\n",
    "                    rotation=90\n",
    "                   )\n",
    "\n",
    "    plt.title(title)\n",
    "    plt.xlabel('File format')\n",
    "    plt.xticks(rotation=0)\n",
    "    plt.ylabel(y_label)\n",
    "    plt.ylim(top=df.max().max()*10)"
   ]
  },
  {
   "cell_type": "markdown",
   "id": "aa52734f-701b-4759-adfa-314ff80b7847",
   "metadata": {},
   "source": [
    "## read"
   ]
  },
  {
   "cell_type": "code",
   "execution_count": 94,
   "id": "e5959f7a-5c8f-4d55-b6a3-fe06346d48bc",
   "metadata": {},
   "outputs": [
    {
     "data": {
      "image/png": "[encoded data removed]",
      "text/plain": [
       "<Figure size 1200x600 with 1 Axes>"
      ]
     },
     "metadata": {},
     "output_type": "display_data"
    }
   ],
   "source": [
    "plot_data(grouped['read'], 'Reading time by format', 'time(s)')"
   ]
  },
  {
   "cell_type": "code",
   "execution_count": 95,
   "id": "e13fd8f5-4ec0-4d7b-a3a7-76ba1233dcbc",
   "metadata": {},
   "outputs": [
    {
     "data": {
      "image/png": "[encoded data removed]",
      "text/plain": [
       "<Figure size 1200x600 with 1 Axes>"
      ]
     },
     "metadata": {},
     "output_type": "display_data"
    }
   ],
   "source": [
    "plot_data(binary['read'], 'Reading time by format', 'time(s)')"
   ]
  },
  {
   "cell_type": "markdown",
   "id": "2f24fd58-8033-4052-9884-bfa67d7b3ab5",
   "metadata": {},
   "source": [
    "## write"
   ]
  },
  {
   "cell_type": "code",
   "execution_count": 96,
   "id": "6c84f154-cf1f-4381-9727-1ac634caa414",
   "metadata": {},
   "outputs": [
    {
     "data": {
      "image/png": "[encoded data removed]",
      "text/plain": [
       "<Figure size 1200x600 with 1 Axes>"
      ]
     },
     "metadata": {},
     "output_type": "display_data"
    }
   ],
   "source": [
    "plot_data(grouped['write'], 'Writing time by format', 'time(s)')"
   ]
  },
  {
   "cell_type": "code",
   "execution_count": 97,
   "id": "af9ac61b-ce1b-4f97-9d61-eb49e42c5fd3",
   "metadata": {},
   "outputs": [
    {
     "data": {
      "image/png": "[encoded data removed]",
      "text/plain": [
       "<Figure size 1200x600 with 1 Axes>"
      ]
     },
     "metadata": {},
     "output_type": "display_data"
    }
   ],
   "source": [
    "plot_data(binary['read'], 'Writing time by format', 'time(s)')"
   ]
  },
  {
   "cell_type": "markdown",
   "id": "c71d9fe9-944e-44b8-a13c-b00609a03b2f",
   "metadata": {},
   "source": [
    "## size"
   ]
  },
  {
   "cell_type": "code",
   "execution_count": 98,
   "id": "19848e0e-25db-4eec-95ec-8695c72d80db",
   "metadata": {},
   "outputs": [
    {
     "data": {
      "image/png": "[encoded data removed]",
      "text/plain": [
       "<Figure size 1200x600 with 1 Axes>"
      ]
     },
     "metadata": {},
     "output_type": "display_data"
    }
   ],
   "source": [
    "plot_data(grouped['size'], 'Size of file by format', 'size(Mbyte)')"
   ]
  }
 ],
 "metadata": {
  "kernelspec": {
   "display_name": "Python 3 (ipykernel)",
   "language": "python",
   "name": "python3"
  },
  "language_info": {
   "codemirror_mode": {
    "name": "ipython",
    "version": 3
   },
   "file_extension": ".py",
   "mimetype": "text/x-python",
   "name": "python",
   "nbconvert_exporter": "python",
   "pygments_lexer": "ipython3",
   "version": "3.9.18"
  }
 },
 "nbformat": 4,
 "nbformat_minor": 5
}
