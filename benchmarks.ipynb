{
 "cells": [
  {
   "cell_type": "code",
   "execution_count": 1,
   "id": "3dce09b7-f05b-46eb-b8ae-7f7481dbd2be",
   "metadata": {},
   "outputs": [],
   "source": [
    "%matplotlib inline\n",
    "\n",
    "# main libs\n",
    "import numpy as np\n",
    "import pandas as pd\n",
    "import matplotlib.pyplot as plt\n",
    "import os\n",
    "\n",
    "# work with sql\n",
    "import psycopg2 \n",
    "from sqlalchemy import create_engine, text\n",
    "from sqlalchemy.engine import URL"
   ]
  },
  {
   "cell_type": "code",
   "execution_count": 2,
   "id": "0869c872-2b4d-4540-90aa-cd9819a0d12d",
   "metadata": {},
   "outputs": [],
   "source": [
    "# set folder for files\n",
    "folder = 'bench_files'\n",
    "# set plt style\n",
    "plt.style.use('ggplot')"
   ]
  },
  {
   "cell_type": "markdown",
   "id": "fbe50eef-9daa-45b6-a448-416d101d4e39",
   "metadata": {},
   "source": [
    "# Creating dataset"
   ]
  },
  {
   "cell_type": "code",
   "execution_count": 3,
   "id": "cc9f1eaa-28c3-4b18-8c9f-6d2592856ce5",
   "metadata": {},
   "outputs": [],
   "source": [
    "class SynthDF(pd.DataFrame):\n",
    "    def __init__(self, *args, **kwargs):\n",
    "        super().__init__(*args, **kwargs)\n",
    "        \n",
    "    @property\n",
    "    def _constructor(self):\n",
    "        return SynthDF\n",
    "    \n",
    "    @classmethod\n",
    "    def create_data(cls, size):\n",
    "        \"\"\"\n",
    "        Create a synthetic DataFrame with random data.\n",
    "\n",
    "        Parameters\n",
    "        ----------\n",
    "        size : int\n",
    "            Number of rows in the DataFrame.\n",
    "        \"\"\"\n",
    "        df = cls()\n",
    "        \n",
    "        # dates\n",
    "        dates = pd.date_range('2024-01-01', '2024-12-31')\n",
    "        df['date'] = np.random.choice(dates, size)\n",
    "        # int data\n",
    "        df['tournament_id'] = np.arange(size)\n",
    "        df['team_id'] = np.random.randint(1, 1000, size)\n",
    "        df['members'] = np.random.randint(1, 10, size)\n",
    "        # categorical data\n",
    "        df['location'] = np.random.choice(['Asia', 'Europe', 'Africa', 'America', 'Oceania'], size)\n",
    "        df['importance'] = np.random.choice(['local', 'minor', 'major'], size)\n",
    "\n",
    "        # float data\n",
    "        df['avg_age'] = np.random.randint(100, 500, size) / 10\n",
    "        df['prize'] = np.random.randint(10000, 10000000, size) / 100\n",
    "        df['prob'] = np.random.uniform(0, 1, size)\n",
    "        # bool data\n",
    "        df['win'] = np.random.choice([True, False], size)\n",
    "        \n",
    "        return df\n",
    "\n",
    "    def dtypes_setter(self):\n",
    "        \"\"\"\n",
    "        Set data types for columns in a synthetic DataFrame.\n",
    "\n",
    "        - Integers: 'tournament_id' ('int32'), 'team_id' ('int16'), 'members' ('int8').\n",
    "        - Categorical: 'location', 'importance'.\n",
    "        - Floats: 'avg_age' ('float16'), 'prize' ('float32'), 'prob' ('float32').\n",
    "        \"\"\"\n",
    "\n",
    "        # int data\n",
    "        self['tournament_id'] = self['tournament_id'].astype('int32')\n",
    "        self['team_id'] = self['team_id'].astype('int16')\n",
    "        self['members'] = self['members'].astype('int8')\n",
    "\n",
    "        # categorical data\n",
    "        self['location'] = self['location'].astype('category')\n",
    "        self['importance'] = self['importance'].astype('category')\n",
    "\n",
    "        # float data\n",
    "        self['avg_age'] = self['avg_age'] .astype('float32')\n",
    "        self['prize'] = self['prize'].astype('float32')\n",
    "        self['prob'] = self['prob'].astype('float32')\n",
    "\n",
    "    def benchmark(self, f_name, write_method, read_method, kwargs_write={}, kwargs_read={}):\n",
    "        \"\"\"\n",
    "        Benchmark the performance and space requirements of writing and reading a DataFrame.\n",
    "\n",
    "        Parameters\n",
    "        ----------\n",
    "        f_name : str\n",
    "            The name of the file to be used for benchmarking.\n",
    "        write_method : callable\n",
    "            The method used to write the DataFrame to a file.\n",
    "        read_method : callable\n",
    "            The method used to read the DataFrame from a file.\n",
    "        kwargs_write : dict, optional\n",
    "            Additional keyword arguments for the write method.\n",
    "        kwargs_read : dict, optional\n",
    "            Additional keyword arguments for the read method.\n",
    "\n",
    "        Returns\n",
    "        -------\n",
    "        dict\n",
    "            A dictionary containing benchmark results.\n",
    "            - 'format': The file format extension.\n",
    "            - 'df_size': The size identifier of the DataFrame.\n",
    "            - 'write': Timing information for the write operation.\n",
    "            - 'read': Timing information for the read operation.\n",
    "            - 'size': The size of the file on disk.\n",
    "            - 'metadata': Whether metadata (data types) is preserved in the read operation.\n",
    "        \"\"\"\n",
    "        # set path to file \n",
    "        file = os.path.join(folder, f_name)\n",
    "\n",
    "        # bench write time\n",
    "        write = %timeit -o write_method(self, file, **kwargs_write)\n",
    "\n",
    "        # bench read time\n",
    "        read = %timeit -o read_method(file, **kwargs_read)\n",
    "\n",
    "        # bench size of file\n",
    "        space = os.path.getsize(file)\n",
    "        print(f'{space} bytes (required space)')\n",
    "\n",
    "        # metadata\n",
    "        new_df = read_method(file, **kwargs_read)\n",
    "        ziped = zip(new_df.dtypes, self.dtypes) \n",
    "        saved_metadata = [type1.base == type2.base for type1, type2 in ziped]\n",
    "        print('metadata is saved' if all(saved_metadata) else 'metadata is NOT saved')\n",
    "\n",
    "        result = {\n",
    "            'format': f_name.split('.')[-1],\n",
    "            'df_size': f_name.split('_')[0],\n",
    "            'write': write.average,\n",
    "            'read': read.average,\n",
    "            'size': space,\n",
    "            'metadata': all(saved_metadata)\n",
    "        }\n",
    "\n",
    "        return result"
   ]
  },
  {
   "cell_type": "code",
   "execution_count": 12,
   "id": "6101dc15-d719-43b5-a5fe-7985fc742281",
   "metadata": {},
   "outputs": [],
   "source": [
    "# data synthesis\n",
    "df_small = SynthDF.create_data(10000)\n",
    "df_medium = SynthDF.create_data(100000)\n",
    "df_large = SynthDF.create_data(1000000)\n",
    "\n",
    "# change dtypes\n",
    "df_small.dtypes_setter()\n",
    "df_medium.dtypes_setter()\n",
    "df_large.dtypes_setter()"
   ]
  },
  {
   "cell_type": "code",
   "execution_count": 13,
   "id": "ba023bc3-f036-4f76-9a8b-bc38de02ac46",
   "metadata": {},
   "outputs": [],
   "source": [
    "# init df for result\n",
    "result = pd.DataFrame(columns=['format','df_size','write', 'read', 'size', 'metadata'])"
   ]
  },
  {
   "cell_type": "markdown",
   "id": "a54fa70a-2a1a-456b-a9d4-463e52c111c6",
   "metadata": {},
   "source": [
    "# CSV"
   ]
  },
  {
   "cell_type": "code",
   "execution_count": 14,
   "id": "a9203681-a4f9-4da1-bc5f-55c7885d005c",
   "metadata": {},
   "outputs": [
    {
     "name": "stdout",
     "output_type": "stream",
     "text": [
      "66.4 ms ± 2.48 ms per loop (mean ± std. dev. of 7 runs, 10 loops each)\n",
      "15.7 ms ± 381 µs per loop (mean ± std. dev. of 7 runs, 100 loops each)\n",
      "657107 bytes (required space)\n",
      "metadata is NOT saved\n"
     ]
    }
   ],
   "source": [
    "temp = df_small.benchmark(\n",
    "    f_name='s_csv.csv', \n",
    "    write_method=pd.DataFrame.to_csv, \n",
    "    read_method=pd.read_csv,\n",
    "    kwargs_write={'index': False}\n",
    ")\n",
    "result = pd.concat([result, pd.DataFrame.from_dict(temp, orient='index').transpose()], ignore_index=True)"
   ]
  },
  {
   "cell_type": "code",
   "execution_count": 15,
   "id": "687ec41f-7ea6-4476-b82a-9baece5148b8",
   "metadata": {},
   "outputs": [
    {
     "name": "stdout",
     "output_type": "stream",
     "text": [
      "606 ms ± 20.2 ms per loop (mean ± std. dev. of 7 runs, 1 loop each)\n",
      "144 ms ± 2.69 ms per loop (mean ± std. dev. of 7 runs, 10 loops each)\n",
      "6670239 bytes (required space)\n",
      "metadata is NOT saved\n"
     ]
    }
   ],
   "source": [
    "temp = df_medium.benchmark(\n",
    "    f_name='m_csv.csv', \n",
    "    write_method=pd.DataFrame.to_csv, \n",
    "    read_method=pd.read_csv,\n",
    "    kwargs_write={'index': False}\n",
    ")\n",
    "result = pd.concat([result, pd.DataFrame.from_dict(temp, orient='index').transpose()], ignore_index=True)"
   ]
  },
  {
   "cell_type": "code",
   "execution_count": 16,
   "id": "29d9d899-3a6a-4ebf-8757-c79322354f93",
   "metadata": {},
   "outputs": [
    {
     "name": "stdout",
     "output_type": "stream",
     "text": [
      "6.12 s ± 93 ms per loop (mean ± std. dev. of 7 runs, 1 loop each)\n",
      "1.32 s ± 110 ms per loop (mean ± std. dev. of 7 runs, 1 loop each)\n",
      "67699733 bytes (required space)\n",
      "metadata is NOT saved\n"
     ]
    }
   ],
   "source": [
    "temp = df_large.benchmark(\n",
    "    f_name='l_csv.csv', \n",
    "    write_method=pd.DataFrame.to_csv, \n",
    "    read_method=pd.read_csv,\n",
    "    kwargs_write={'index': False}\n",
    ")\n",
    "result = pd.concat([result, pd.DataFrame.from_dict(temp, orient='index').transpose()], ignore_index=True)"
   ]
  },
  {
   "cell_type": "markdown",
   "id": "f1492881-6356-4395-8817-22e1f285c23e",
   "metadata": {},
   "source": [
    "# JSON"
   ]
  },
  {
   "cell_type": "code",
   "execution_count": 17,
   "id": "bc7769b8-9d74-461f-b45b-d6e4df462d8f",
   "metadata": {},
   "outputs": [
    {
     "name": "stdout",
     "output_type": "stream",
     "text": [
      "16.3 ms ± 176 µs per loop (mean ± std. dev. of 7 runs, 100 loops each)\n",
      "64.8 ms ± 1.05 ms per loop (mean ± std. dev. of 7 runs, 10 loops each)\n",
      "1552830 bytes (required space)\n",
      "metadata is NOT saved\n"
     ]
    }
   ],
   "source": [
    "temp = df_small.benchmark(\n",
    "    f_name='s_json.json', \n",
    "    write_method=pd.DataFrame.to_json, \n",
    "    read_method=pd.read_json,\n",
    ")\n",
    "result = pd.concat([result, pd.DataFrame.from_dict(temp, orient='index').transpose()], ignore_index=True)"
   ]
  },
  {
   "cell_type": "code",
   "execution_count": 18,
   "id": "c086d67b-8a51-4d70-a0de-945fb537c16d",
   "metadata": {},
   "outputs": [
    {
     "name": "stdout",
     "output_type": "stream",
     "text": [
      "184 ms ± 3.54 ms per loop (mean ± std. dev. of 7 runs, 1 loop each)\n",
      "849 ms ± 13.8 ms per loop (mean ± std. dev. of 7 runs, 1 loop each)\n",
      "16629488 bytes (required space)\n",
      "metadata is NOT saved\n"
     ]
    }
   ],
   "source": [
    "temp = df_medium.benchmark(\n",
    "    f_name='m_json.json', \n",
    "    write_method=pd.DataFrame.to_json, \n",
    "    read_method=pd.read_json,\n",
    ")\n",
    "result = pd.concat([result, pd.DataFrame.from_dict(temp, orient='index').transpose()], ignore_index=True)"
   ]
  },
  {
   "cell_type": "code",
   "execution_count": 19,
   "id": "7b7842d6-12d0-4314-bb74-0bcf2504348c",
   "metadata": {},
   "outputs": [
    {
     "name": "stdout",
     "output_type": "stream",
     "text": [
      "3.38 s ± 65.5 ms per loop (mean ± std. dev. of 7 runs, 1 loop each)\n",
      "11.6 s ± 653 ms per loop (mean ± std. dev. of 7 runs, 1 loop each)\n",
      "177273602 bytes (required space)\n",
      "metadata is NOT saved\n"
     ]
    }
   ],
   "source": [
    "temp = df_large.benchmark(\n",
    "    f_name='l_json.json', \n",
    "    write_method=pd.DataFrame.to_json, \n",
    "    read_method=pd.read_json,\n",
    ")\n",
    "result = pd.concat([result, pd.DataFrame.from_dict(temp, orient='index').transpose()], ignore_index=True)"
   ]
  },
  {
   "cell_type": "markdown",
   "id": "36a9a0bc-282a-4616-ab9f-74659c537d0d",
   "metadata": {},
   "source": [
    "# SQL?"
   ]
  },
  {
   "cell_type": "markdown",
   "id": "1adcd8a3-8882-43b5-89f5-5f33a8bd79a7",
   "metadata": {},
   "source": [
    "# Pickle"
   ]
  },
  {
   "cell_type": "code",
   "execution_count": 20,
   "id": "6043ee2a-6f48-413c-9e78-feda82b4d9b2",
   "metadata": {},
   "outputs": [
    {
     "name": "stdout",
     "output_type": "stream",
     "text": [
      "859 µs ± 8.08 µs per loop (mean ± std. dev. of 7 runs, 1,000 loops each)\n",
      "611 µs ± 4.37 µs per loop (mean ± std. dev. of 7 runs, 1,000 loops each)\n",
      "301977 bytes (required space)\n",
      "metadata is saved\n"
     ]
    }
   ],
   "source": [
    "temp = df_small.benchmark(\n",
    "    f_name='s_pickle.pickle', \n",
    "    write_method=pd.DataFrame.to_pickle, \n",
    "    read_method=pd.read_pickle,\n",
    ")\n",
    "result = pd.concat([result, pd.DataFrame.from_dict(temp, orient='index').transpose()], ignore_index=True)"
   ]
  },
  {
   "cell_type": "code",
   "execution_count": 21,
   "id": "eeeb4b72-b4d4-4803-90eb-aef70a54c0a3",
   "metadata": {},
   "outputs": [
    {
     "name": "stdout",
     "output_type": "stream",
     "text": [
      "2.53 ms ± 140 µs per loop (mean ± std. dev. of 7 runs, 100 loops each)\n",
      "1.56 ms ± 41.8 µs per loop (mean ± std. dev. of 7 runs, 1,000 loops each)\n",
      "3002062 bytes (required space)\n",
      "metadata is saved\n"
     ]
    }
   ],
   "source": [
    "temp = df_medium.benchmark(\n",
    "    f_name='m_pickle.pickle', \n",
    "    write_method=pd.DataFrame.to_pickle, \n",
    "    read_method=pd.read_pickle,\n",
    ")\n",
    "result = pd.concat([result, pd.DataFrame.from_dict(temp, orient='index').transpose()], ignore_index=True)"
   ]
  },
  {
   "cell_type": "code",
   "execution_count": 22,
   "id": "2e9f721f-9d70-4da2-b821-994c217bffb6",
   "metadata": {},
   "outputs": [
    {
     "name": "stdout",
     "output_type": "stream",
     "text": [
      "23 ms ± 1.99 ms per loop (mean ± std. dev. of 7 runs, 10 loops each)\n",
      "19.9 ms ± 164 µs per loop (mean ± std. dev. of 7 runs, 100 loops each)\n",
      "30002062 bytes (required space)\n",
      "metadata is saved\n"
     ]
    }
   ],
   "source": [
    "temp = df_large.benchmark(\n",
    "    f_name='l_pickle.pickle', \n",
    "    write_method=pd.DataFrame.to_pickle, \n",
    "    read_method=pd.read_pickle,\n",
    ")\n",
    "result = pd.concat([result, pd.DataFrame.from_dict(temp, orient='index').transpose()], ignore_index=True)"
   ]
  },
  {
   "cell_type": "markdown",
   "id": "adb53539-d555-4270-a576-f16e539e2626",
   "metadata": {
    "tags": []
   },
   "source": [
    "# Feather\n",
    "`\n",
    "!pip istall pyarrow\n",
    "`"
   ]
  },
  {
   "cell_type": "code",
   "execution_count": 23,
   "id": "88bcea07-c141-40f7-9961-f8ee175f4b6d",
   "metadata": {},
   "outputs": [
    {
     "name": "stdout",
     "output_type": "stream",
     "text": [
      "3.88 ms ± 51.1 µs per loop (mean ± std. dev. of 7 runs, 100 loops each)\n",
      "2.77 ms ± 18.1 µs per loop (mean ± std. dev. of 7 runs, 100 loops each)\n",
      "229162 bytes (required space)\n",
      "metadata is saved\n"
     ]
    }
   ],
   "source": [
    "temp = df_small.benchmark(\n",
    "    f_name='s_feather.feather', \n",
    "    write_method=pd.DataFrame.to_feather, \n",
    "    read_method=pd.read_feather,\n",
    ")\n",
    "result = pd.concat([result, pd.DataFrame.from_dict(temp, orient='index').transpose()], ignore_index=True)"
   ]
  },
  {
   "cell_type": "code",
   "execution_count": 24,
   "id": "4891c779-def8-45bd-b8b0-63011ca5591f",
   "metadata": {},
   "outputs": [
    {
     "name": "stdout",
     "output_type": "stream",
     "text": [
      "8.38 ms ± 86.8 µs per loop (mean ± std. dev. of 7 runs, 100 loops each)\n",
      "6.81 ms ± 132 µs per loop (mean ± std. dev. of 7 runs, 100 loops each)\n",
      "2189250 bytes (required space)\n",
      "metadata is saved\n"
     ]
    }
   ],
   "source": [
    "temp = df_medium.benchmark(\n",
    "    f_name='m_feather.feather', \n",
    "    write_method=pd.DataFrame.to_feather, \n",
    "    read_method=pd.read_feather,\n",
    ")\n",
    "result = pd.concat([result, pd.DataFrame.from_dict(temp, orient='index').transpose()], ignore_index=True)"
   ]
  },
  {
   "cell_type": "code",
   "execution_count": 25,
   "id": "714b5db9-ce52-455d-9035-3b589cbd81ff",
   "metadata": {},
   "outputs": [
    {
     "name": "stdout",
     "output_type": "stream",
     "text": [
      "45.2 ms ± 621 µs per loop (mean ± std. dev. of 7 runs, 10 loops each)\n",
      "43.4 ms ± 732 µs per loop (mean ± std. dev. of 7 runs, 10 loops each)\n",
      "21826370 bytes (required space)\n",
      "metadata is saved\n"
     ]
    }
   ],
   "source": [
    "temp = df_large.benchmark(\n",
    "    f_name='l_feather.feather', \n",
    "    write_method=pd.DataFrame.to_feather, \n",
    "    read_method=pd.read_feather,\n",
    ")\n",
    "result = pd.concat([result, pd.DataFrame.from_dict(temp, orient='index').transpose()], ignore_index=True)"
   ]
  },
  {
   "cell_type": "markdown",
   "id": "3ef66f16-b78b-4f39-b7d6-5f7132176a4b",
   "metadata": {},
   "source": [
    "# Parquet\n",
    "`\n",
    "!pip istall fastparquet\n",
    "`"
   ]
  },
  {
   "cell_type": "code",
   "execution_count": 26,
   "id": "5273143d-0593-4d7d-9adf-924847d1a66c",
   "metadata": {},
   "outputs": [
    {
     "name": "stdout",
     "output_type": "stream",
     "text": [
      "9.69 ms ± 214 µs per loop (mean ± std. dev. of 7 runs, 1 loop each)\n",
      "4.22 ms ± 73.3 µs per loop (mean ± std. dev. of 7 runs, 100 loops each)\n",
      "235505 bytes (required space)\n",
      "metadata is saved\n"
     ]
    }
   ],
   "source": [
    "temp = df_small.benchmark(\n",
    "    f_name='s_parquet.parquet', \n",
    "    write_method=pd.DataFrame.to_parquet, \n",
    "    read_method=pd.read_parquet,\n",
    "    kwargs_write={'engine':'fastparquet'},\n",
    "    kwargs_read={'engine':'fastparquet'}\n",
    ")\n",
    "result = pd.concat([result, pd.DataFrame.from_dict(temp, orient='index').transpose()], ignore_index=True)"
   ]
  },
  {
   "cell_type": "code",
   "execution_count": 27,
   "id": "ce00fc51-b3ce-4be2-85b5-64f05a16d2d8",
   "metadata": {},
   "outputs": [
    {
     "name": "stdout",
     "output_type": "stream",
     "text": [
      "20.7 ms ± 1.72 ms per loop (mean ± std. dev. of 7 runs, 10 loops each)\n",
      "8.55 ms ± 82.8 µs per loop (mean ± std. dev. of 7 runs, 100 loops each)\n",
      "2311325 bytes (required space)\n",
      "metadata is saved\n"
     ]
    }
   ],
   "source": [
    "temp = df_medium.benchmark(\n",
    "    f_name='m_parquet.parquet', \n",
    "    write_method=pd.DataFrame.to_parquet, \n",
    "    read_method=pd.read_parquet,\n",
    "    kwargs_write={'engine':'fastparquet'},\n",
    "    kwargs_read={'engine':'fastparquet'}\n",
    ")\n",
    "result = pd.concat([result, pd.DataFrame.from_dict(temp, orient='index').transpose()], ignore_index=True)"
   ]
  },
  {
   "cell_type": "code",
   "execution_count": 28,
   "id": "4d8f7b51-f32a-465b-bb73-23afc44d1d5b",
   "metadata": {},
   "outputs": [
    {
     "name": "stdout",
     "output_type": "stream",
     "text": [
      "154 ms ± 1.51 ms per loop (mean ± std. dev. of 7 runs, 10 loops each)\n",
      "72.2 ms ± 737 µs per loop (mean ± std. dev. of 7 runs, 10 loops each)\n",
      "23061456 bytes (required space)\n",
      "metadata is saved\n"
     ]
    }
   ],
   "source": [
    "temp = df_large.benchmark(\n",
    "    f_name='l_parquet.parquet', \n",
    "    write_method=pd.DataFrame.to_parquet, \n",
    "    read_method=pd.read_parquet,\n",
    "    kwargs_write={'engine':'fastparquet'},\n",
    "    kwargs_read={'engine':'fastparquet'}\n",
    ")\n",
    "result = pd.concat([result, pd.DataFrame.from_dict(temp, orient='index').transpose()], ignore_index=True)"
   ]
  },
  {
   "cell_type": "markdown",
   "id": "b5499bbe-ec3e-43a8-bdc0-b4fc45f48ac6",
   "metadata": {},
   "source": [
    "# Show results"
   ]
  },
  {
   "cell_type": "code",
   "execution_count": 140,
   "id": "9c40390c-1258-4e1f-b388-aa1198fa7857",
   "metadata": {},
   "outputs": [
    {
     "data": {
      "text/html": [
       "<div>\n",
       "<style scoped>\n",
       "    .dataframe tbody tr th:only-of-type {\n",
       "        vertical-align: middle;\n",
       "    }\n",
       "\n",
       "    .dataframe tbody tr th {\n",
       "        vertical-align: top;\n",
       "    }\n",
       "\n",
       "    .dataframe thead th {\n",
       "        text-align: right;\n",
       "    }\n",
       "</style>\n",
       "<table border=\"1\" class=\"dataframe\">\n",
       "  <thead>\n",
       "    <tr style=\"text-align: right;\">\n",
       "      <th></th>\n",
       "      <th>format</th>\n",
       "      <th>df_size</th>\n",
       "      <th>write</th>\n",
       "      <th>read</th>\n",
       "      <th>size</th>\n",
       "      <th>metadata</th>\n",
       "    </tr>\n",
       "  </thead>\n",
       "  <tbody>\n",
       "    <tr>\n",
       "      <th>0</th>\n",
       "      <td>csv</td>\n",
       "      <td>s</td>\n",
       "      <td>0.066415</td>\n",
       "      <td>0.015717</td>\n",
       "      <td>0.657107</td>\n",
       "      <td>False</td>\n",
       "    </tr>\n",
       "    <tr>\n",
       "      <th>1</th>\n",
       "      <td>csv</td>\n",
       "      <td>m</td>\n",
       "      <td>0.606343</td>\n",
       "      <td>0.144178</td>\n",
       "      <td>6.670239</td>\n",
       "      <td>False</td>\n",
       "    </tr>\n",
       "    <tr>\n",
       "      <th>2</th>\n",
       "      <td>csv</td>\n",
       "      <td>l</td>\n",
       "      <td>6.121764</td>\n",
       "      <td>1.315749</td>\n",
       "      <td>67.699733</td>\n",
       "      <td>False</td>\n",
       "    </tr>\n",
       "    <tr>\n",
       "      <th>3</th>\n",
       "      <td>json</td>\n",
       "      <td>s</td>\n",
       "      <td>0.016263</td>\n",
       "      <td>0.064841</td>\n",
       "      <td>1.55283</td>\n",
       "      <td>False</td>\n",
       "    </tr>\n",
       "    <tr>\n",
       "      <th>4</th>\n",
       "      <td>json</td>\n",
       "      <td>m</td>\n",
       "      <td>0.183965</td>\n",
       "      <td>0.84906</td>\n",
       "      <td>16.629488</td>\n",
       "      <td>False</td>\n",
       "    </tr>\n",
       "    <tr>\n",
       "      <th>5</th>\n",
       "      <td>json</td>\n",
       "      <td>l</td>\n",
       "      <td>3.376944</td>\n",
       "      <td>11.60459</td>\n",
       "      <td>177.273602</td>\n",
       "      <td>False</td>\n",
       "    </tr>\n",
       "    <tr>\n",
       "      <th>6</th>\n",
       "      <td>pickle</td>\n",
       "      <td>s</td>\n",
       "      <td>0.000859</td>\n",
       "      <td>0.000611</td>\n",
       "      <td>0.301977</td>\n",
       "      <td>True</td>\n",
       "    </tr>\n",
       "    <tr>\n",
       "      <th>7</th>\n",
       "      <td>pickle</td>\n",
       "      <td>m</td>\n",
       "      <td>0.002531</td>\n",
       "      <td>0.001555</td>\n",
       "      <td>3.002062</td>\n",
       "      <td>True</td>\n",
       "    </tr>\n",
       "    <tr>\n",
       "      <th>8</th>\n",
       "      <td>pickle</td>\n",
       "      <td>l</td>\n",
       "      <td>0.023044</td>\n",
       "      <td>0.019868</td>\n",
       "      <td>30.002062</td>\n",
       "      <td>True</td>\n",
       "    </tr>\n",
       "    <tr>\n",
       "      <th>9</th>\n",
       "      <td>feather</td>\n",
       "      <td>s</td>\n",
       "      <td>0.003882</td>\n",
       "      <td>0.002766</td>\n",
       "      <td>0.229162</td>\n",
       "      <td>True</td>\n",
       "    </tr>\n",
       "    <tr>\n",
       "      <th>10</th>\n",
       "      <td>feather</td>\n",
       "      <td>m</td>\n",
       "      <td>0.008382</td>\n",
       "      <td>0.006815</td>\n",
       "      <td>2.18925</td>\n",
       "      <td>True</td>\n",
       "    </tr>\n",
       "    <tr>\n",
       "      <th>11</th>\n",
       "      <td>feather</td>\n",
       "      <td>l</td>\n",
       "      <td>0.045233</td>\n",
       "      <td>0.043445</td>\n",
       "      <td>21.82637</td>\n",
       "      <td>True</td>\n",
       "    </tr>\n",
       "    <tr>\n",
       "      <th>12</th>\n",
       "      <td>parquet</td>\n",
       "      <td>s</td>\n",
       "      <td>0.009689</td>\n",
       "      <td>0.004218</td>\n",
       "      <td>0.235505</td>\n",
       "      <td>True</td>\n",
       "    </tr>\n",
       "    <tr>\n",
       "      <th>13</th>\n",
       "      <td>parquet</td>\n",
       "      <td>m</td>\n",
       "      <td>0.020674</td>\n",
       "      <td>0.008551</td>\n",
       "      <td>2.311325</td>\n",
       "      <td>True</td>\n",
       "    </tr>\n",
       "    <tr>\n",
       "      <th>14</th>\n",
       "      <td>parquet</td>\n",
       "      <td>l</td>\n",
       "      <td>0.154439</td>\n",
       "      <td>0.072157</td>\n",
       "      <td>23.061456</td>\n",
       "      <td>True</td>\n",
       "    </tr>\n",
       "  </tbody>\n",
       "</table>\n",
       "</div>"
      ],
      "text/plain": [
       "     format df_size     write      read        size metadata\n",
       "0       csv       s  0.066415  0.015717    0.657107    False\n",
       "1       csv       m  0.606343  0.144178    6.670239    False\n",
       "2       csv       l  6.121764  1.315749   67.699733    False\n",
       "3      json       s  0.016263  0.064841     1.55283    False\n",
       "4      json       m  0.183965   0.84906   16.629488    False\n",
       "5      json       l  3.376944  11.60459  177.273602    False\n",
       "6    pickle       s  0.000859  0.000611    0.301977     True\n",
       "7    pickle       m  0.002531  0.001555    3.002062     True\n",
       "8    pickle       l  0.023044  0.019868   30.002062     True\n",
       "9   feather       s  0.003882  0.002766    0.229162     True\n",
       "10  feather       m  0.008382  0.006815     2.18925     True\n",
       "11  feather       l  0.045233  0.043445    21.82637     True\n",
       "12  parquet       s  0.009689  0.004218    0.235505     True\n",
       "13  parquet       m  0.020674  0.008551    2.311325     True\n",
       "14  parquet       l  0.154439  0.072157   23.061456     True"
      ]
     },
     "execution_count": 140,
     "metadata": {},
     "output_type": "execute_result"
    }
   ],
   "source": [
    "result['size'] /= 1_000_000 # convert to MB\n",
    "result"
   ]
  },
  {
   "cell_type": "markdown",
   "id": "50f822e9-05c3-47db-ad26-aced7d719c5a",
   "metadata": {},
   "source": [
    "# Group data"
   ]
  },
  {
   "cell_type": "code",
   "execution_count": 143,
   "id": "84cb0e98-02a4-4a30-8bca-3827a4cbb4df",
   "metadata": {},
   "outputs": [
    {
     "data": {
      "text/html": [
       "<div>\n",
       "<style scoped>\n",
       "    .dataframe tbody tr th:only-of-type {\n",
       "        vertical-align: middle;\n",
       "    }\n",
       "\n",
       "    .dataframe tbody tr th {\n",
       "        vertical-align: top;\n",
       "    }\n",
       "\n",
       "    .dataframe thead tr th {\n",
       "        text-align: left;\n",
       "    }\n",
       "\n",
       "    .dataframe thead tr:last-of-type th {\n",
       "        text-align: right;\n",
       "    }\n",
       "</style>\n",
       "<table border=\"1\" class=\"dataframe\">\n",
       "  <thead>\n",
       "    <tr>\n",
       "      <th></th>\n",
       "      <th colspan=\"3\" halign=\"left\">write</th>\n",
       "      <th colspan=\"3\" halign=\"left\">read</th>\n",
       "      <th colspan=\"3\" halign=\"left\">size</th>\n",
       "      <th colspan=\"3\" halign=\"left\">metadata</th>\n",
       "    </tr>\n",
       "    <tr>\n",
       "      <th>df_size</th>\n",
       "      <th>l</th>\n",
       "      <th>m</th>\n",
       "      <th>s</th>\n",
       "      <th>l</th>\n",
       "      <th>m</th>\n",
       "      <th>s</th>\n",
       "      <th>l</th>\n",
       "      <th>m</th>\n",
       "      <th>s</th>\n",
       "      <th>l</th>\n",
       "      <th>m</th>\n",
       "      <th>s</th>\n",
       "    </tr>\n",
       "    <tr>\n",
       "      <th>format</th>\n",
       "      <th></th>\n",
       "      <th></th>\n",
       "      <th></th>\n",
       "      <th></th>\n",
       "      <th></th>\n",
       "      <th></th>\n",
       "      <th></th>\n",
       "      <th></th>\n",
       "      <th></th>\n",
       "      <th></th>\n",
       "      <th></th>\n",
       "      <th></th>\n",
       "    </tr>\n",
       "  </thead>\n",
       "  <tbody>\n",
       "    <tr>\n",
       "      <th>csv</th>\n",
       "      <td>6.121764</td>\n",
       "      <td>0.606343</td>\n",
       "      <td>0.066415</td>\n",
       "      <td>1.315749</td>\n",
       "      <td>0.144178</td>\n",
       "      <td>0.015717</td>\n",
       "      <td>67.699733</td>\n",
       "      <td>6.670239</td>\n",
       "      <td>0.657107</td>\n",
       "      <td>0.0</td>\n",
       "      <td>0.0</td>\n",
       "      <td>0.0</td>\n",
       "    </tr>\n",
       "    <tr>\n",
       "      <th>feather</th>\n",
       "      <td>0.045233</td>\n",
       "      <td>0.008382</td>\n",
       "      <td>0.003882</td>\n",
       "      <td>0.043445</td>\n",
       "      <td>0.006815</td>\n",
       "      <td>0.002766</td>\n",
       "      <td>21.82637</td>\n",
       "      <td>2.18925</td>\n",
       "      <td>0.229162</td>\n",
       "      <td>1.0</td>\n",
       "      <td>1.0</td>\n",
       "      <td>1.0</td>\n",
       "    </tr>\n",
       "    <tr>\n",
       "      <th>json</th>\n",
       "      <td>3.376944</td>\n",
       "      <td>0.183965</td>\n",
       "      <td>0.016263</td>\n",
       "      <td>11.60459</td>\n",
       "      <td>0.84906</td>\n",
       "      <td>0.064841</td>\n",
       "      <td>177.273602</td>\n",
       "      <td>16.629488</td>\n",
       "      <td>1.55283</td>\n",
       "      <td>0.0</td>\n",
       "      <td>0.0</td>\n",
       "      <td>0.0</td>\n",
       "    </tr>\n",
       "    <tr>\n",
       "      <th>parquet</th>\n",
       "      <td>0.154439</td>\n",
       "      <td>0.020674</td>\n",
       "      <td>0.009689</td>\n",
       "      <td>0.072157</td>\n",
       "      <td>0.008551</td>\n",
       "      <td>0.004218</td>\n",
       "      <td>23.061456</td>\n",
       "      <td>2.311325</td>\n",
       "      <td>0.235505</td>\n",
       "      <td>1.0</td>\n",
       "      <td>1.0</td>\n",
       "      <td>1.0</td>\n",
       "    </tr>\n",
       "    <tr>\n",
       "      <th>pickle</th>\n",
       "      <td>0.023044</td>\n",
       "      <td>0.002531</td>\n",
       "      <td>0.000859</td>\n",
       "      <td>0.019868</td>\n",
       "      <td>0.001555</td>\n",
       "      <td>0.000611</td>\n",
       "      <td>30.002062</td>\n",
       "      <td>3.002062</td>\n",
       "      <td>0.301977</td>\n",
       "      <td>1.0</td>\n",
       "      <td>1.0</td>\n",
       "      <td>1.0</td>\n",
       "    </tr>\n",
       "  </tbody>\n",
       "</table>\n",
       "</div>"
      ],
      "text/plain": [
       "            write                          read                      \\\n",
       "df_size         l         m         s         l         m         s   \n",
       "format                                                                \n",
       "csv      6.121764  0.606343  0.066415  1.315749  0.144178  0.015717   \n",
       "feather  0.045233  0.008382  0.003882  0.043445  0.006815  0.002766   \n",
       "json     3.376944  0.183965  0.016263  11.60459   0.84906  0.064841   \n",
       "parquet  0.154439  0.020674  0.009689  0.072157  0.008551  0.004218   \n",
       "pickle   0.023044  0.002531  0.000859  0.019868  0.001555  0.000611   \n",
       "\n",
       "               size                      metadata            \n",
       "df_size           l          m         s        l    m    s  \n",
       "format                                                       \n",
       "csv       67.699733   6.670239  0.657107      0.0  0.0  0.0  \n",
       "feather    21.82637    2.18925  0.229162      1.0  1.0  1.0  \n",
       "json     177.273602  16.629488   1.55283      0.0  0.0  0.0  \n",
       "parquet   23.061456   2.311325  0.235505      1.0  1.0  1.0  \n",
       "pickle    30.002062   3.002062  0.301977      1.0  1.0  1.0  "
      ]
     },
     "execution_count": 143,
     "metadata": {},
     "output_type": "execute_result"
    }
   ],
   "source": [
    "# group DF by 'format' and 'df_size'\n",
    "grouped = result.groupby(['format', 'df_size']).mean().unstack()\n",
    "grouped"
   ]
  },
  {
   "cell_type": "code",
   "execution_count": 144,
   "id": "a933867d-e691-489b-9336-2009121bf5ad",
   "metadata": {},
   "outputs": [
    {
     "data": {
      "text/html": [
       "<div>\n",
       "<style scoped>\n",
       "    .dataframe tbody tr th:only-of-type {\n",
       "        vertical-align: middle;\n",
       "    }\n",
       "\n",
       "    .dataframe tbody tr th {\n",
       "        vertical-align: top;\n",
       "    }\n",
       "\n",
       "    .dataframe thead tr th {\n",
       "        text-align: left;\n",
       "    }\n",
       "\n",
       "    .dataframe thead tr:last-of-type th {\n",
       "        text-align: right;\n",
       "    }\n",
       "</style>\n",
       "<table border=\"1\" class=\"dataframe\">\n",
       "  <thead>\n",
       "    <tr>\n",
       "      <th></th>\n",
       "      <th colspan=\"3\" halign=\"left\">write</th>\n",
       "      <th colspan=\"3\" halign=\"left\">read</th>\n",
       "      <th colspan=\"3\" halign=\"left\">size</th>\n",
       "      <th colspan=\"3\" halign=\"left\">metadata</th>\n",
       "    </tr>\n",
       "    <tr>\n",
       "      <th>df_size</th>\n",
       "      <th>l</th>\n",
       "      <th>m</th>\n",
       "      <th>s</th>\n",
       "      <th>l</th>\n",
       "      <th>m</th>\n",
       "      <th>s</th>\n",
       "      <th>l</th>\n",
       "      <th>m</th>\n",
       "      <th>s</th>\n",
       "      <th>l</th>\n",
       "      <th>m</th>\n",
       "      <th>s</th>\n",
       "    </tr>\n",
       "    <tr>\n",
       "      <th>format</th>\n",
       "      <th></th>\n",
       "      <th></th>\n",
       "      <th></th>\n",
       "      <th></th>\n",
       "      <th></th>\n",
       "      <th></th>\n",
       "      <th></th>\n",
       "      <th></th>\n",
       "      <th></th>\n",
       "      <th></th>\n",
       "      <th></th>\n",
       "      <th></th>\n",
       "    </tr>\n",
       "  </thead>\n",
       "  <tbody>\n",
       "    <tr>\n",
       "      <th>feather</th>\n",
       "      <td>0.045233</td>\n",
       "      <td>0.008382</td>\n",
       "      <td>0.003882</td>\n",
       "      <td>0.043445</td>\n",
       "      <td>0.006815</td>\n",
       "      <td>0.002766</td>\n",
       "      <td>21.82637</td>\n",
       "      <td>2.18925</td>\n",
       "      <td>0.229162</td>\n",
       "      <td>1.0</td>\n",
       "      <td>1.0</td>\n",
       "      <td>1.0</td>\n",
       "    </tr>\n",
       "    <tr>\n",
       "      <th>parquet</th>\n",
       "      <td>0.154439</td>\n",
       "      <td>0.020674</td>\n",
       "      <td>0.009689</td>\n",
       "      <td>0.072157</td>\n",
       "      <td>0.008551</td>\n",
       "      <td>0.004218</td>\n",
       "      <td>23.061456</td>\n",
       "      <td>2.311325</td>\n",
       "      <td>0.235505</td>\n",
       "      <td>1.0</td>\n",
       "      <td>1.0</td>\n",
       "      <td>1.0</td>\n",
       "    </tr>\n",
       "    <tr>\n",
       "      <th>pickle</th>\n",
       "      <td>0.023044</td>\n",
       "      <td>0.002531</td>\n",
       "      <td>0.000859</td>\n",
       "      <td>0.019868</td>\n",
       "      <td>0.001555</td>\n",
       "      <td>0.000611</td>\n",
       "      <td>30.002062</td>\n",
       "      <td>3.002062</td>\n",
       "      <td>0.301977</td>\n",
       "      <td>1.0</td>\n",
       "      <td>1.0</td>\n",
       "      <td>1.0</td>\n",
       "    </tr>\n",
       "  </tbody>\n",
       "</table>\n",
       "</div>"
      ],
      "text/plain": [
       "            write                          read                      \\\n",
       "df_size         l         m         s         l         m         s   \n",
       "format                                                                \n",
       "feather  0.045233  0.008382  0.003882  0.043445  0.006815  0.002766   \n",
       "parquet  0.154439  0.020674  0.009689  0.072157  0.008551  0.004218   \n",
       "pickle   0.023044  0.002531  0.000859  0.019868  0.001555  0.000611   \n",
       "\n",
       "              size                     metadata            \n",
       "df_size          l         m         s        l    m    s  \n",
       "format                                                     \n",
       "feather   21.82637   2.18925  0.229162      1.0  1.0  1.0  \n",
       "parquet  23.061456  2.311325  0.235505      1.0  1.0  1.0  \n",
       "pickle   30.002062  3.002062  0.301977      1.0  1.0  1.0  "
      ]
     },
     "execution_count": 144,
     "metadata": {},
     "output_type": "execute_result"
    }
   ],
   "source": [
    "binary = grouped.query('format not in [\"csv\", \"json\"]')\n",
    "binary"
   ]
  },
  {
   "cell_type": "markdown",
   "id": "89e882ed-6d15-4ae2-be7f-716cb36ddca4",
   "metadata": {},
   "source": [
    "# Draw graphs"
   ]
  },
  {
   "cell_type": "code",
   "execution_count": 167,
   "id": "9ec5343f-2a2e-4dd3-b253-afc329ca4f76",
   "metadata": {},
   "outputs": [],
   "source": [
    "def plot_data(df, title='', y_label=''):\n",
    "    ax = df.plot(kind='bar', figsize=(12, 6), width=0.8, logy=True)\n",
    "    for p in ax.patches:\n",
    "        ax.annotate(str(round(p.get_height(), 4)), \n",
    "                    (p.get_x() + p.get_width() / 2., p.get_height()), \n",
    "                    ha='center', \n",
    "                    va='center', \n",
    "                    xytext=(0, 30), \n",
    "                    textcoords='offset points',\n",
    "                    rotation=90\n",
    "                   )\n",
    "\n",
    "    plt.title(title)\n",
    "    plt.xlabel('File format')\n",
    "    plt.xticks(rotation=0)\n",
    "    plt.ylabel(y_label)\n",
    "    plt.ylim(top=df.max().max()*10)"
   ]
  },
  {
   "cell_type": "markdown",
   "id": "aa52734f-701b-4759-adfa-314ff80b7847",
   "metadata": {},
   "source": [
    "## read"
   ]
  },
  {
   "cell_type": "code",
   "execution_count": 168,
   "id": "e5959f7a-5c8f-4d55-b6a3-fe06346d48bc",
   "metadata": {},
   "outputs": [
    {
     "data": {
      "image/png": "[encoded data removed]",
      "text/plain": [
       "<Figure size 1200x600 with 1 Axes>"
      ]
     },
     "metadata": {},
     "output_type": "display_data"
    }
   ],
   "source": [
    "plot_data(grouped['read'], 'Reading time by format', 'time(s)')"
   ]
  },
  {
   "cell_type": "code",
   "execution_count": 161,
   "id": "e13fd8f5-4ec0-4d7b-a3a7-76ba1233dcbc",
   "metadata": {},
   "outputs": [
    {
     "data": {
      "image/png": "[encoded data removed]",
      "text/plain": [
       "<Figure size 1200x600 with 1 Axes>"
      ]
     },
     "metadata": {},
     "output_type": "display_data"
    }
   ],
   "source": [
    "plot_data(binary['read'], 'Reading time by format', 'time(s)')"
   ]
  },
  {
   "cell_type": "markdown",
   "id": "2f24fd58-8033-4052-9884-bfa67d7b3ab5",
   "metadata": {},
   "source": [
    "## write"
   ]
  },
  {
   "cell_type": "code",
   "execution_count": 162,
   "id": "6c84f154-cf1f-4381-9727-1ac634caa414",
   "metadata": {},
   "outputs": [
    {
     "data": {
      "image/png": "[encoded data removed]",
      "text/plain": [
       "<Figure size 1200x600 with 1 Axes>"
      ]
     },
     "metadata": {},
     "output_type": "display_data"
    }
   ],
   "source": [
    "plot_data(grouped['write'], 'Writing time by format', 'time(s)')"
   ]
  },
  {
   "cell_type": "code",
   "execution_count": 163,
   "id": "af9ac61b-ce1b-4f97-9d61-eb49e42c5fd3",
   "metadata": {},
   "outputs": [
    {
     "data": {
      "image/png": "[encoded data removed]",
      "text/plain": [
       "<Figure size 1200x600 with 1 Axes>"
      ]
     },
     "metadata": {},
     "output_type": "display_data"
    }
   ],
   "source": [
    "plot_data(binary['read'], 'Writing time by format', 'time(s)')"
   ]
  },
  {
   "cell_type": "markdown",
   "id": "c71d9fe9-944e-44b8-a13c-b00609a03b2f",
   "metadata": {},
   "source": [
    "## size"
   ]
  },
  {
   "cell_type": "code",
   "execution_count": 164,
   "id": "19848e0e-25db-4eec-95ec-8695c72d80db",
   "metadata": {},
   "outputs": [
    {
     "data": {
      "image/png": "[encoded data removed]",
      "text/plain": [
       "<Figure size 1200x600 with 1 Axes>"
      ]
     },
     "metadata": {},
     "output_type": "display_data"
    }
   ],
   "source": [
    "plot_data(grouped['size'], 'Size of file by format', 'size(Mbyte)')"
   ]
  },
  {
   "cell_type": "code",
   "execution_count": null,
   "id": "421d460d-9e87-432e-9a51-31daba48f3f5",
   "metadata": {},
   "outputs": [],
   "source": []
  }
 ],
 "metadata": {
  "kernelspec": {
   "display_name": "Python 3 (ipykernel)",
   "language": "python",
   "name": "python3"
  },
  "language_info": {
   "codemirror_mode": {
    "name": "ipython",
    "version": 3
   },
   "file_extension": ".py",
   "mimetype": "text/x-python",
   "name": "python",
   "nbconvert_exporter": "python",
   "pygments_lexer": "ipython3",
   "version": "3.9.18"
  }
 },
 "nbformat": 4,
 "nbformat_minor": 5
}
